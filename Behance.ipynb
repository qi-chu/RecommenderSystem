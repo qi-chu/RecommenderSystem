{
 "cells": [
  {
   "cell_type": "code",
   "execution_count": 45,
   "id": "925790ad",
   "metadata": {},
   "outputs": [],
   "source": [
    "import csv\n",
    "import datetime\n",
    "import gzip\n",
    "import random\n",
    "from collections import defaultdict\n",
    "\n",
    "import numpy as np\n",
    "import scipy\n",
    "import scipy.optimize\n",
    "import tensorflow as tf\n",
    "from sklearn import linear_model\n",
    "import pandas as pd\n",
    "from datetime import datetime\n",
    "\n",
    "timeThreshold = 60\n",
    "\n",
    "def readGz(path):\n",
    "    for l in gzip.open(path, \"rt\"):\n",
    "        yield l"
   ]
  },
  {
   "cell_type": "code",
   "execution_count": 3,
   "id": "8d4e70ee",
   "metadata": {},
   "outputs": [],
   "source": [
    "def AUCu(model, u, N):\n",
    "    win = 0\n",
    "    if N > len(interactionsTestPerUser[u]):\n",
    "        N = len(interactionsTestPerUser[u])\n",
    "    positive = random.sample(interactionsTestPerUser[u],N)\n",
    "    negative = random.sample(itemSet,N)\n",
    "    for (i,j),k in zip(positive,negative):\n",
    "        sp = model.predict(userIDs[u], itemIDs[i], itemIDs[j]).numpy()\n",
    "        sn = model.predict(userIDs[u], itemIDs[k], itemIDs[j]).numpy()\n",
    "        if sp > sn:\n",
    "            win += 1\n",
    "    return win/N"
   ]
  },
  {
   "cell_type": "code",
   "execution_count": 4,
   "id": "12aa1961",
   "metadata": {},
   "outputs": [],
   "source": [
    "def AUC(model):\n",
    "    av = []\n",
    "    for u in interactionsTestPerUser:\n",
    "        av.append(AUCu(model, u, 10))\n",
    "    return sum(av) / len(av)"
   ]
  },
  {
   "cell_type": "code",
   "execution_count": 5,
   "id": "c2357232",
   "metadata": {},
   "outputs": [],
   "source": [
    "interaction = []\n",
    "for l in readGz(\"Behance_appreciate_1M.gz\"):\n",
    "    items = [i.replace('\\n', '') for i in l.split(' ')]\n",
    "    interaction.append(items)"
   ]
  },
  {
   "cell_type": "code",
   "execution_count": 6,
   "id": "d612828b",
   "metadata": {},
   "outputs": [
    {
     "data": {
      "text/plain": [
       "[['276633', '01588231', '1307583271'],\n",
       " ['1238354', '01529213', '1307583273'],\n",
       " ['165550', '00485000', '1307583337'],\n",
       " ['2173258', '00776972', '1307583340'],\n",
       " ['165550', '00158226', '1307583406']]"
      ]
     },
     "execution_count": 6,
     "metadata": {},
     "output_type": "execute_result"
    }
   ],
   "source": [
    "interaction[:5]"
   ]
  },
  {
   "cell_type": "code",
   "execution_count": 7,
   "id": "2b7557a2",
   "metadata": {},
   "outputs": [
    {
     "data": {
      "text/plain": [
       "1000000"
      ]
     },
     "execution_count": 7,
     "metadata": {},
     "output_type": "execute_result"
    }
   ],
   "source": [
    "len(interaction)"
   ]
  },
  {
   "cell_type": "code",
   "execution_count": 8,
   "id": "384fe127",
   "metadata": {},
   "outputs": [],
   "source": [
    "interactionPerUser = defaultdict(list)\n",
    "interactionCountPerUser = defaultdict(int)\n",
    "for d in interaction:\n",
    "    u = d[0]\n",
    "    i = d[1]\n",
    "    ts = int(d[2])\n",
    "    interactionPerUser[u].append((i, ts))\n",
    "    interactionCountPerUser[u] += 1"
   ]
  },
  {
   "cell_type": "code",
   "execution_count": 9,
   "id": "7b72f7d2",
   "metadata": {},
   "outputs": [
    {
     "data": {
      "text/plain": [
       "63497"
      ]
     },
     "execution_count": 9,
     "metadata": {},
     "output_type": "execute_result"
    }
   ],
   "source": [
    "len(interactionPerUser)"
   ]
  },
  {
   "cell_type": "code",
   "execution_count": 10,
   "id": "ef3479f5",
   "metadata": {},
   "outputs": [
    {
     "data": {
      "text/plain": [
       "0.616895286391483"
      ]
     },
     "execution_count": 10,
     "metadata": {},
     "output_type": "execute_result"
    }
   ],
   "source": [
    "sum([interactionCountPerUser[u] >= 3 for u in interactionCountPerUser]) / len(interactionCountPerUser)"
   ]
  },
  {
   "cell_type": "code",
   "execution_count": 11,
   "id": "dee66333",
   "metadata": {},
   "outputs": [],
   "source": [
    "# Train/Val/Test Split\n",
    "interactionsTrainPerUser = defaultdict(list)\n",
    "interactionsTestPerUser = defaultdict(list)\n",
    "interactionsValPerUser = defaultdict(list)\n",
    "for u in interactionPerUser:\n",
    "    if interactionCountPerUser[u] >= 3:\n",
    "        sort_int = sorted(interactionPerUser[u], key = lambda x: x[1])\n",
    "        interactionsTestPerUser[u] = sort_int[-1]\n",
    "        interactionsValPerUser[u] = sort_int[-2]\n",
    "        interactionsTrainPerUser[u] = sort_int[:-2]"
   ]
  },
  {
   "cell_type": "code",
   "execution_count": 12,
   "id": "66dc2626",
   "metadata": {},
   "outputs": [
    {
     "data": {
      "text/plain": [
       "39171"
      ]
     },
     "execution_count": 12,
     "metadata": {},
     "output_type": "execute_result"
    }
   ],
   "source": [
    "interactionsTrainPerUser['276633']\n",
    "len(interactionsTrainPerUser)"
   ]
  },
  {
   "cell_type": "code",
   "execution_count": 73,
   "id": "c0416d68",
   "metadata": {},
   "outputs": [],
   "source": [
    "# mostPopular = [(itemCount[d], d) for d in itemCount]\n",
    "# mostPopular.sort(reverse = True)"
   ]
  },
  {
   "cell_type": "code",
   "execution_count": 44,
   "id": "20192788",
   "metadata": {},
   "outputs": [],
   "source": [
    "# mostPopular[0][1]"
   ]
  },
  {
   "cell_type": "markdown",
   "id": "b753ebf8",
   "metadata": {},
   "source": [
    "### Popularity"
   ]
  },
  {
   "cell_type": "code",
   "execution_count": 46,
   "id": "0df9191f",
   "metadata": {},
   "outputs": [],
   "source": [
    "# itemCount = defaultdict(int)\n",
    "# totalCount = defaultdict(int)\n",
    "timeCount = defaultdict(lambda : defaultdict(int))\n",
    "for d in interactionsTrainPerUser:\n",
    "    l = interactionsTrainPerUser[d]\n",
    "    for item, ts in l:\n",
    "        ts = ts // (timeThreshold*60)\n",
    "        timeCount[ts][item] += 1\n",
    "#         itemCount[(item, ts)] += 1\n",
    "#         totalCount[ts] += 1"
   ]
  },
  {
   "cell_type": "code",
   "execution_count": 172,
   "id": "73774d69",
   "metadata": {
    "collapsed": true,
    "jupyter": {
     "outputs_hidden": true
    }
   },
   "outputs": [
    {
     "data": {
      "text/plain": [
       "defaultdict(int,\n",
       "            {'02245390': 1,\n",
       "             '02333640': 1,\n",
       "             '01969117': 1,\n",
       "             '02345212': 20,\n",
       "             '00750476': 1,\n",
       "             '01384927': 1,\n",
       "             '01609277': 1,\n",
       "             '00683015': 1,\n",
       "             '00933954': 1,\n",
       "             '01011009': 1,\n",
       "             '00980697': 1,\n",
       "             '01461631': 1,\n",
       "             '00773933': 1,\n",
       "             '02324622': 4,\n",
       "             '01265625': 1,\n",
       "             '01763950': 6,\n",
       "             '02345150': 1,\n",
       "             '02344912': 1,\n",
       "             '02344768': 1,\n",
       "             '01786606': 2,\n",
       "             '01764508': 2,\n",
       "             '01971913': 1,\n",
       "             '00783161': 1,\n",
       "             '02345536': 2,\n",
       "             '01956947': 1,\n",
       "             '00412167': 1,\n",
       "             '00421600': 1,\n",
       "             '00550067': 1,\n",
       "             '00529316': 1,\n",
       "             '00048787': 1,\n",
       "             '00518601': 1,\n",
       "             '01486677': 1,\n",
       "             '00381691': 1,\n",
       "             '01531061': 1,\n",
       "             '02330340': 1,\n",
       "             '00742930': 1,\n",
       "             '02345392': 1,\n",
       "             '00149031': 1,\n",
       "             '01097531': 1,\n",
       "             '00112095': 1,\n",
       "             '02336370': 1,\n",
       "             '00957839': 1,\n",
       "             '00838617': 1,\n",
       "             '01128633': 1,\n",
       "             '01240491': 2,\n",
       "             '02292028': 2,\n",
       "             '00487598': 1,\n",
       "             '02059884': 1,\n",
       "             '02345286': 1,\n",
       "             '00229950': 1,\n",
       "             '02315418': 1,\n",
       "             '01764778': 1,\n",
       "             '00532194': 1,\n",
       "             '02247242': 1,\n",
       "             '02269716': 1,\n",
       "             '02280546': 1,\n",
       "             '00878025': 1,\n",
       "             '02304278': 1,\n",
       "             '02328684': 1,\n",
       "             '02201161': 1,\n",
       "             '02149077': 1,\n",
       "             '01955307': 1,\n",
       "             '00635646': 1,\n",
       "             '02116906': 1,\n",
       "             '00428809': 1,\n",
       "             '00169596': 1,\n",
       "             '00344936': 1,\n",
       "             '02184259': 1,\n",
       "             '00364453': 1,\n",
       "             '00661229': 1,\n",
       "             '02299146': 1})"
      ]
     },
     "execution_count": 172,
     "metadata": {},
     "output_type": "execute_result"
    }
   ],
   "source": [
    "# timeCount[1465611]"
   ]
  },
  {
   "cell_type": "code",
   "execution_count": 50,
   "id": "329da3d2",
   "metadata": {},
   "outputs": [],
   "source": [
    "def popularity_predict(ts, N):\n",
    "    index = ts // (timeThreshold * 60)\n",
    "#     print(index)\n",
    "    popularItem = timeCount[index]\n",
    "    mostPopular = [(popularItem[d], d) for d in popularItem]\n",
    "    mostPopular.sort(reverse = True)\n",
    "    if len(mostPopular) < N:\n",
    "        N = len(mostPopular)\n",
    "#     print(mostPopular[:N])\n",
    "    recommend = [d[1] for d in mostPopular[:N]]\n",
    "    \n",
    "    return recommend\n",
    "#     if len(mostPopular) == 0:\n",
    "#         return 0\n",
    "#     return mostPopular[0][1]"
   ]
  },
  {
   "cell_type": "code",
   "execution_count": 119,
   "id": "65e379c9",
   "metadata": {},
   "outputs": [
    {
     "data": {
      "text/plain": [
       "'02345212'"
      ]
     },
     "execution_count": 119,
     "metadata": {},
     "output_type": "execute_result"
    }
   ],
   "source": [
    "# rec = popularity_predict(1465611 * (timeThreshold * 60))\n",
    "# rec"
   ]
  },
  {
   "cell_type": "code",
   "execution_count": 51,
   "id": "d68e035a",
   "metadata": {},
   "outputs": [],
   "source": [
    "def popularity_AUCu(u, N):\n",
    "    win = 0\n",
    "    item = interactionsTestPerUser[u][0]\n",
    "    ts = interactionsTestPerUser[u][1]\n",
    "    rec = popularity_predict(ts, N)\n",
    "    if item in rec:\n",
    "        win += 1\n",
    "#     if rec == item:\n",
    "#         print('YEs')\n",
    "#         win += 1       \n",
    "    return win"
   ]
  },
  {
   "cell_type": "code",
   "execution_count": 52,
   "id": "c7851f7c",
   "metadata": {},
   "outputs": [
    {
     "name": "stdout",
     "output_type": "stream",
     "text": [
      "AUC of popularity:  0.12236093028005413\n"
     ]
    }
   ],
   "source": [
    "# Calculate AUC\n",
    "av = []\n",
    "for u in interactionsTestPerUser:\n",
    "    av.append(popularity_AUCu(u, 10))\n",
    "AUC = sum(av) / len(av)\n",
    "print(\"AUC of popularity: \", AUC)"
   ]
  },
  {
   "cell_type": "code",
   "execution_count": null,
   "id": "cfd5ba22",
   "metadata": {},
   "outputs": [],
   "source": []
  },
  {
   "cell_type": "code",
   "execution_count": null,
   "id": "540b856a",
   "metadata": {},
   "outputs": [],
   "source": []
  },
  {
   "cell_type": "code",
   "execution_count": null,
   "id": "56edaccb",
   "metadata": {},
   "outputs": [],
   "source": []
  },
  {
   "cell_type": "code",
   "execution_count": null,
   "id": "cf2dabc4",
   "metadata": {},
   "outputs": [],
   "source": []
  },
  {
   "cell_type": "code",
   "execution_count": null,
   "id": "2bbe5f96",
   "metadata": {},
   "outputs": [],
   "source": []
  },
  {
   "cell_type": "code",
   "execution_count": null,
   "id": "5973c734",
   "metadata": {},
   "outputs": [],
   "source": []
  },
  {
   "cell_type": "code",
   "execution_count": null,
   "id": "93beede6",
   "metadata": {},
   "outputs": [],
   "source": []
  },
  {
   "cell_type": "code",
   "execution_count": null,
   "id": "f0d9dc88",
   "metadata": {},
   "outputs": [],
   "source": []
  },
  {
   "cell_type": "code",
   "execution_count": null,
   "id": "cdb75662",
   "metadata": {},
   "outputs": [],
   "source": []
  },
  {
   "cell_type": "code",
   "execution_count": null,
   "id": "be502265",
   "metadata": {},
   "outputs": [],
   "source": []
  },
  {
   "cell_type": "markdown",
   "id": "d51afc7d",
   "metadata": {},
   "source": [
    "### Time Threshold"
   ]
  },
  {
   "cell_type": "code",
   "execution_count": 8,
   "id": "51be234e",
   "metadata": {},
   "outputs": [
    {
     "data": {
      "text/html": [
       "<div>\n",
       "<style scoped>\n",
       "    .dataframe tbody tr th:only-of-type {\n",
       "        vertical-align: middle;\n",
       "    }\n",
       "\n",
       "    .dataframe tbody tr th {\n",
       "        vertical-align: top;\n",
       "    }\n",
       "\n",
       "    .dataframe thead th {\n",
       "        text-align: right;\n",
       "    }\n",
       "</style>\n",
       "<table border=\"1\" class=\"dataframe\">\n",
       "  <thead>\n",
       "    <tr style=\"text-align: right;\">\n",
       "      <th></th>\n",
       "      <th>user_id</th>\n",
       "      <th>item_id</th>\n",
       "      <th>timestamp</th>\n",
       "    </tr>\n",
       "  </thead>\n",
       "  <tbody>\n",
       "    <tr>\n",
       "      <th>0</th>\n",
       "      <td>276633</td>\n",
       "      <td>01588231</td>\n",
       "      <td>1307583271</td>\n",
       "    </tr>\n",
       "    <tr>\n",
       "      <th>1</th>\n",
       "      <td>1238354</td>\n",
       "      <td>01529213</td>\n",
       "      <td>1307583273</td>\n",
       "    </tr>\n",
       "    <tr>\n",
       "      <th>2</th>\n",
       "      <td>165550</td>\n",
       "      <td>00485000</td>\n",
       "      <td>1307583337</td>\n",
       "    </tr>\n",
       "    <tr>\n",
       "      <th>3</th>\n",
       "      <td>2173258</td>\n",
       "      <td>00776972</td>\n",
       "      <td>1307583340</td>\n",
       "    </tr>\n",
       "    <tr>\n",
       "      <th>4</th>\n",
       "      <td>165550</td>\n",
       "      <td>00158226</td>\n",
       "      <td>1307583406</td>\n",
       "    </tr>\n",
       "  </tbody>\n",
       "</table>\n",
       "</div>"
      ],
      "text/plain": [
       "   user_id   item_id   timestamp\n",
       "0   276633  01588231  1307583271\n",
       "1  1238354  01529213  1307583273\n",
       "2   165550  00485000  1307583337\n",
       "3  2173258  00776972  1307583340\n",
       "4   165550  00158226  1307583406"
      ]
     },
     "execution_count": 8,
     "metadata": {},
     "output_type": "execute_result"
    }
   ],
   "source": [
    "df = pd.DataFrame(interaction, columns = ['user_id', 'item_id', 'timestamp'])\n",
    "df.head()"
   ]
  },
  {
   "cell_type": "code",
   "execution_count": 10,
   "id": "f8540afc",
   "metadata": {},
   "outputs": [
    {
     "data": {
      "text/plain": [
       "1311594039    7\n",
       "1309770025    6\n",
       "1308921052    6\n",
       "1310063412    5\n",
       "1315319115    5\n",
       "             ..\n",
       "1311097371    2\n",
       "1311725586    2\n",
       "1313749874    2\n",
       "1312990068    2\n",
       "1314007758    2\n",
       "Name: timestamp, Length: 48381, dtype: int64"
      ]
     },
     "execution_count": 10,
     "metadata": {},
     "output_type": "execute_result"
    }
   ],
   "source": [
    "a = df.timestamp.value_counts()\n",
    "a[a>1]"
   ]
  },
  {
   "cell_type": "code",
   "execution_count": 15,
   "id": "a768a96d",
   "metadata": {},
   "outputs": [
    {
     "name": "stdout",
     "output_type": "stream",
     "text": [
      "2011-06-09 01:34:31\n"
     ]
    }
   ],
   "source": [
    "dt = datetime.fromtimestamp(1307583271)\n",
    "dt\n",
    "print(dt.strftime(\"%Y-%m-%d %H:%M:%S\"))"
   ]
  },
  {
   "cell_type": "code",
   "execution_count": 37,
   "id": "1d10c979",
   "metadata": {},
   "outputs": [
    {
     "name": "stdout",
     "output_type": "stream",
     "text": [
      "4358610 4358611 4358612 4358611\n"
     ]
    }
   ],
   "source": [
    "print(1307583271 // 300, 1307583337 // 300, 1307583707//300, 1307583567//300)"
   ]
  },
  {
   "cell_type": "code",
   "execution_count": 17,
   "id": "cc2fe3b3",
   "metadata": {},
   "outputs": [
    {
     "data": {
      "text/html": [
       "<div>\n",
       "<style scoped>\n",
       "    .dataframe tbody tr th:only-of-type {\n",
       "        vertical-align: middle;\n",
       "    }\n",
       "\n",
       "    .dataframe tbody tr th {\n",
       "        vertical-align: top;\n",
       "    }\n",
       "\n",
       "    .dataframe thead th {\n",
       "        text-align: right;\n",
       "    }\n",
       "</style>\n",
       "<table border=\"1\" class=\"dataframe\">\n",
       "  <thead>\n",
       "    <tr style=\"text-align: right;\">\n",
       "      <th></th>\n",
       "      <th>user_id</th>\n",
       "      <th>item_id</th>\n",
       "      <th>timestamp</th>\n",
       "      <th>time</th>\n",
       "    </tr>\n",
       "  </thead>\n",
       "  <tbody>\n",
       "    <tr>\n",
       "      <th>0</th>\n",
       "      <td>276633</td>\n",
       "      <td>01588231</td>\n",
       "      <td>1307583271</td>\n",
       "      <td>2011-06-09 01:34:31</td>\n",
       "    </tr>\n",
       "    <tr>\n",
       "      <th>1</th>\n",
       "      <td>1238354</td>\n",
       "      <td>01529213</td>\n",
       "      <td>1307583273</td>\n",
       "      <td>2011-06-09 01:34:33</td>\n",
       "    </tr>\n",
       "    <tr>\n",
       "      <th>2</th>\n",
       "      <td>165550</td>\n",
       "      <td>00485000</td>\n",
       "      <td>1307583337</td>\n",
       "      <td>2011-06-09 01:35:37</td>\n",
       "    </tr>\n",
       "    <tr>\n",
       "      <th>3</th>\n",
       "      <td>2173258</td>\n",
       "      <td>00776972</td>\n",
       "      <td>1307583340</td>\n",
       "      <td>2011-06-09 01:35:40</td>\n",
       "    </tr>\n",
       "    <tr>\n",
       "      <th>4</th>\n",
       "      <td>165550</td>\n",
       "      <td>00158226</td>\n",
       "      <td>1307583406</td>\n",
       "      <td>2011-06-09 01:36:46</td>\n",
       "    </tr>\n",
       "  </tbody>\n",
       "</table>\n",
       "</div>"
      ],
      "text/plain": [
       "   user_id   item_id   timestamp                 time\n",
       "0   276633  01588231  1307583271  2011-06-09 01:34:31\n",
       "1  1238354  01529213  1307583273  2011-06-09 01:34:33\n",
       "2   165550  00485000  1307583337  2011-06-09 01:35:37\n",
       "3  2173258  00776972  1307583340  2011-06-09 01:35:40\n",
       "4   165550  00158226  1307583406  2011-06-09 01:36:46"
      ]
     },
     "execution_count": 17,
     "metadata": {},
     "output_type": "execute_result"
    }
   ],
   "source": [
    "df['timestamp'] = df.timestamp.astype(\"int\")\n",
    "df['time'] = df.timestamp.apply(lambda x: datetime.fromtimestamp(x).strftime(\"%Y-%m-%d %H:%M:%S\"))\n",
    "df.head()"
   ]
  },
  {
   "cell_type": "code",
   "execution_count": 33,
   "id": "f7df2e59",
   "metadata": {},
   "outputs": [
    {
     "name": "stdout",
     "output_type": "stream",
     "text": [
      "1970-01-01 00:05:00\n",
      "300.0\n"
     ]
    }
   ],
   "source": [
    "d = datetime(1970, 1, 1, 0, 5, 0)\n",
    "print(d.strftime(\"%Y-%m-%d %H:%M:%S\"))\n",
    "timestamp = datetime.timestamp(d)\n",
    "print(timestamp)"
   ]
  },
  {
   "cell_type": "code",
   "execution_count": 40,
   "id": "75ce18cc",
   "metadata": {},
   "outputs": [],
   "source": [
    "df['time_5'] = df.timestamp // (5 * 60)\n",
    "df['time_10'] = df.timestamp // (10 * 60)\n",
    "df['time_15'] = df.timestamp // (15 * 60)\n",
    "df['time_20'] = df.timestamp // (20 * 60)\n",
    "df['time_30'] = df.timestamp // (30 * 60)\n",
    "df['time_60'] = df.timestamp // (60 * 60)"
   ]
  },
  {
   "cell_type": "code",
   "execution_count": 48,
   "id": "40ec712f",
   "metadata": {},
   "outputs": [
    {
     "name": "stdout",
     "output_type": "stream",
     "text": [
      "86 1 45550\n",
      "148 1 22781\n",
      "205 2 15187\n",
      "270 7 11391\n",
      "394 18 7594\n",
      "749 51 3798\n"
     ]
    }
   ],
   "source": [
    "b = df.time_5.value_counts()\n",
    "print(max(b), min(b), len(b))\n",
    "\n",
    "b = df.time_10.value_counts()\n",
    "print(max(b), min(b), len(b))\n",
    "\n",
    "b = df.time_15.value_counts()\n",
    "print(max(b), min(b), len(b))\n",
    "\n",
    "b = df.time_20.value_counts()\n",
    "print(max(b), min(b), len(b))\n",
    "\n",
    "b = df.time_30.value_counts()\n",
    "print(max(b), min(b), len(b))\n",
    "\n",
    "b = df.time_60.value_counts()\n",
    "print(max(b), min(b), len(b))"
   ]
  },
  {
   "cell_type": "code",
   "execution_count": 62,
   "id": "ed2076e4",
   "metadata": {},
   "outputs": [
    {
     "data": {
      "text/plain": [
       "0.0022387568315006255"
      ]
     },
     "execution_count": 62,
     "metadata": {},
     "output_type": "execute_result"
    }
   ],
   "source": [
    "b = df.time_15.value_counts()\n",
    "sum(b <= 10) / len(b)"
   ]
  },
  {
   "cell_type": "code",
   "execution_count": null,
   "id": "d0b01aa0",
   "metadata": {},
   "outputs": [],
   "source": []
  }
 ],
 "metadata": {
  "kernelspec": {
   "display_name": "Python 3",
   "language": "python",
   "name": "python3"
  },
  "language_info": {
   "codemirror_mode": {
    "name": "ipython",
    "version": 3
   },
   "file_extension": ".py",
   "mimetype": "text/x-python",
   "name": "python",
   "nbconvert_exporter": "python",
   "pygments_lexer": "ipython3",
   "version": "3.8.5"
  }
 },
 "nbformat": 4,
 "nbformat_minor": 5
}
